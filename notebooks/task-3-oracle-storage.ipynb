{
 "cells": [
  {
   "cell_type": "markdown",
   "id": "acccd2d7",
   "metadata": {},
   "source": [
    "# 🗄️ Task 3 – Oracle Database Ingestion  \n",
    "📘 Version: 2025-06-11\n",
    "\n",
    "Persist cleaned and enriched Google Play reviews into an Oracle database for three Ethiopian banks (CBE, BOA, Dashen), establishing a normalized schema and loading data for downstream analytics.\n",
    "\n",
    "### This notebook/module covers:\n",
    "- Defining and deploying the relational schema (`banks`, `reviews` with foreign key) in Oracle  \n",
    "- Connecting to Oracle via `src/db/oracle_connector.py` with robust, environment-driven credentials  \n",
    "- Dropping and re-creating tables defensively, ignoring “table does not exist” errors  \n",
    "- Extracting distinct banks to populate the `banks` table and mapping names to surrogate keys  \n",
    "- Bulk-loading `data/outputs/reviews_enriched_all.csv` into the `reviews` table using batched `executemany`  \n",
    "- Committing transactions and handling tablespace quota programmatically  \n",
    "- Cleaning up connections and cursors with full error handling and inline debug logging  \n"
   ]
  },
  {
   "cell_type": "code",
   "execution_count": 1,
   "id": "ef7dce5f",
   "metadata": {},
   "outputs": [
    {
     "name": "stdout",
     "output_type": "stream",
     "text": [
      "📂 Changed working directory to project root\n",
      "✅ Added to sys.path: c:\\Users\\admin\\Documents\\GIT Repositories\\b5w2-customer-ux-analytics-challenge\n",
      "📁 Output path ready\n"
     ]
    }
   ],
   "source": [
    "# ------------------------------------------------------------------------------\n",
    "# 🛠 Ensure Notebook Runs from Project Root (for src/ imports to work)\n",
    "# ------------------------------------------------------------------------------\n",
    "\n",
    "import os\n",
    "import sys\n",
    "\n",
    "# If running from /notebooks/, move up to project root\n",
    "if os.path.basename(os.getcwd()) == \"notebooks\":\n",
    "    os.chdir(\"..\")\n",
    "    print(\"📂 Changed working directory to project root\")\n",
    "\n",
    "# Add project root to sys.path so `src/` modules can be imported\n",
    "project_root = os.getcwd()\n",
    "if project_root not in sys.path:\n",
    "    sys.path.insert(0, project_root)\n",
    "    print(f\"✅ Added to sys.path: {project_root}\")\n",
    "\n",
    "# Optional: verify file presence to confirm we're in the right place\n",
    "expected_path = \"data/raw\"\n",
    "print(\n",
    "    \"📁 Output path ready\"\n",
    "    if os.path.exists(expected_path)\n",
    "    else f\"⚠️ Output path not found: {expected_path}\"\n",
    ")"
   ]
  },
  {
   "cell_type": "markdown",
   "id": "2bbe6d2d",
   "metadata": {},
   "source": [
    "## 🚀 Deploy Schema & Load Enriched Reviews\n",
    "\n",
    "This step orchestrates the end‐to‐end ingestion of enriched Google Play reviews into Oracle, ensuring an idempotent, robust setup:\n",
    "\n",
    "- Instantiates `OracleConnector` (loads `.env`, validates credentials, and configures logging).  \n",
    "- Idempotently drops existing `reviews` and `banks` tables, skipping if they don’t exist.  \n",
    "- Idempotently creates the `banks` (dimension) and `reviews` (fact) tables with proper foreign key.  \n",
    "- Bulk‐loads `reviews_enriched_all.csv` from `data/outputs/`, parsing dates and numeric fields, and mapping bank names to surrogate keys.  \n",
    "- Commits all transactions and closes the connection with graceful error handling.  \n",
    "\n",
    "This single cell drives the Task 3 database pipeline, leveraging a fully OOP connector for clarity, maintainability, and repeatability.  \n"
   ]
  },
  {
   "cell_type": "code",
   "execution_count": 2,
   "id": "6abc7468",
   "metadata": {},
   "outputs": [
    {
     "name": "stderr",
     "output_type": "stream",
     "text": [
      "2025-06-11 07:19:23,429 DEBUG Env loaded → user=nablop, dsn=localhost:1521/xepdb1\n",
      "2025-06-11 07:19:23,552 INFO ✅ Connected as nablop\n",
      "2025-06-11 07:19:23,558 DEBUG Table 'reviews' exists? True\n",
      "2025-06-11 07:19:23,705 INFO ➖ Dropped existing table 'reviews'\n",
      "2025-06-11 07:19:23,710 DEBUG Table 'banks' exists? True\n",
      "2025-06-11 07:19:23,780 INFO ➖ Dropped existing table 'banks'\n",
      "2025-06-11 07:19:23,784 DEBUG Table 'banks' exists? False\n",
      "2025-06-11 07:19:23,880 INFO ✅ Created table 'banks'\n",
      "2025-06-11 07:19:23,883 DEBUG Table 'reviews' exists? False\n",
      "2025-06-11 07:19:23,959 INFO ✅ Created table 'reviews'\n",
      "2025-06-11 07:19:24,019 DEBUG Parsed 1200 rows, 3 banks\n",
      "2025-06-11 07:19:24,822 INFO Inserted 3 banks\n",
      "2025-06-11 07:19:26,374 INFO Loaded 1200 reviews\n",
      "2025-06-11 07:19:26,385 INFO 🔒 Connection closed\n"
     ]
    },
    {
     "name": "stdout",
     "output_type": "stream",
     "text": [
      "🎉 Task 3 complete: schema deployed and data loaded.\n"
     ]
    }
   ],
   "source": [
    "# ------------------------------------------------------------------------------\n",
    "# 🚀 Task 3 – Deploy Schema & Load Enriched Reviews\n",
    "# ------------------------------------------------------------------------------\n",
    "\n",
    "from src.db.oracle_connector import OracleConnector\n",
    "\n",
    "try:\n",
    "    connector = OracleConnector(verbose=True)  # initialize connector\n",
    "    connector.drop_tables()  # drop existing tables\n",
    "    connector.create_schema()  # create banks & reviews schema\n",
    "    connector.load_data(\n",
    "        csv_relative=\"data/outputs/reviews_enriched_all.csv\"\n",
    "    )  # bulk-load data\n",
    "    connector.close()  # close connection\n",
    "    print(\"🎉 Task 3 complete: schema deployed and data loaded.\")\n",
    "except Exception as e:\n",
    "    print(f\"❌ Task 3 failed: {e}\")\n",
    "    # connector may be in inconsistent state; ensure cleanup\n",
    "    try:\n",
    "        connector.close()\n",
    "    except:\n",
    "        pass"
   ]
  }
 ],
 "metadata": {
  "kernelspec": {
   "display_name": "customer-ux-challenge",
   "language": "python",
   "name": "python3"
  },
  "language_info": {
   "codemirror_mode": {
    "name": "ipython",
    "version": 3
   },
   "file_extension": ".py",
   "mimetype": "text/x-python",
   "name": "python",
   "nbconvert_exporter": "python",
   "pygments_lexer": "ipython3",
   "version": "3.12.0"
  }
 },
 "nbformat": 4,
 "nbformat_minor": 5
}
